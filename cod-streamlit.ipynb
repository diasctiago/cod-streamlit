{
 "cells": [
  {
   "cell_type": "markdown",
   "metadata": {},
   "source": [
    "# Analise exploratória #"
   ]
  },
  {
   "cell_type": "code",
   "execution_count": 20,
   "metadata": {},
   "outputs": [
    {
     "name": "stdout",
     "output_type": "stream",
     "text": [
      "Populating the interactive namespace from numpy and matplotlib\n"
     ]
    }
   ],
   "source": [
    "import streamlit as st\n",
    "import pandas as pd\n",
    "%matplotlib inline\n",
    "%pylab inline\n",
    "import matplotlib.pyplot as plt\n",
    "import seaborn as sns\n",
    "plt.style.use('ggplot')\n"
   ]
  },
  {
   "cell_type": "code",
   "execution_count": 14,
   "metadata": {},
   "outputs": [],
   "source": [
    "df = pd.read_csv('C:\\\\Users\\\\TiagoDias\\\\Downloads\\\\black_friday.csv')"
   ]
  },
  {
   "cell_type": "code",
   "execution_count": 15,
   "metadata": {},
   "outputs": [
    {
     "name": "stdout",
     "output_type": "stream",
     "text": [
      "['F' 'F' 'F' ... 'M' 'M' 'M']\n"
     ]
    }
   ],
   "source": [
    "idade = df['Gender'].values\n",
    "print(idade)"
   ]
  },
  {
   "cell_type": "code",
   "execution_count": 16,
   "metadata": {},
   "outputs": [
    {
     "data": {
      "text/plain": [
       "(array([ 365., 2044.,    0., 3656.,    0., 1933.,  752.,    0.,  661.,\n",
       "         323.]),\n",
       " array([0. , 0.6, 1.2, 1.8, 2.4, 3. , 3.6, 4.2, 4.8, 5.4, 6. ]),\n",
       " <a list of 10 Patch objects>)"
      ]
     },
     "execution_count": 16,
     "metadata": {},
     "output_type": "execute_result"
    },
    {
     "data": {
      "image/png": "[encoded data removed]",
      "text/plain": [
       "<Figure size 432x288 with 1 Axes>"
      ]
     },
     "metadata": {
      "needs_background": "light"
     },
     "output_type": "display_data"
    }
   ],
   "source": [
    "plt.hist(sorted(df['Age'].values))"
   ]
  },
  {
   "cell_type": "code",
   "execution_count": 6,
   "metadata": {},
   "outputs": [
    {
     "name": "stdout",
     "output_type": "stream",
     "text": [
      "M    7411\n",
      "F    2323\n",
      "Name: Gender, dtype: int64\n"
     ]
    }
   ],
   "source": [
    "print(df['Gender'].value_counts())"
   ]
  },
  {
   "cell_type": "code",
   "execution_count": 7,
   "metadata": {},
   "outputs": [
    {
     "data": {
      "text/plain": [
       "<matplotlib.axes._subplots.AxesSubplot at 0xe56510>"
      ]
     },
     "execution_count": 7,
     "metadata": {},
     "output_type": "execute_result"
    },
    {
     "data": {
      "image/png": "[encoded data removed]",
      "text/plain": [
       "<Figure size 432x288 with 1 Axes>"
      ]
     },
     "metadata": {},
     "output_type": "display_data"
    }
   ],
   "source": [
    "df.groupby('Gender')['Gender'].value_counts().plot.barh()"
   ]
  },
  {
   "cell_type": "code",
   "execution_count": 8,
   "metadata": {},
   "outputs": [
    {
     "data": {
      "text/plain": [
       "26-35    3656\n",
       "18-25    2044\n",
       "36-45    1933\n",
       "46-50     752\n",
       "51-55     661\n",
       "0-17      365\n",
       "55+       323\n",
       "Name: Age, dtype: int64"
      ]
     },
     "execution_count": 8,
     "metadata": {},
     "output_type": "execute_result"
    }
   ],
   "source": [
    "df['Age'].value_counts()"
   ]
  },
  {
   "cell_type": "code",
   "execution_count": 9,
   "metadata": {},
   "outputs": [
    {
     "data": {
      "text/html": [
       "<style  type=\"text/css\" >\n",
       "    #T_a5950b2e_80d9_11ea_81bc_f8da0cff9a16row0_col0 {\n",
       "            background-color:  #b40426;\n",
       "            color:  #f1f1f1;\n",
       "        }    #T_a5950b2e_80d9_11ea_81bc_f8da0cff9a16row0_col1 {\n",
       "            background-color:  #4257c9;\n",
       "            color:  #f1f1f1;\n",
       "        }    #T_a5950b2e_80d9_11ea_81bc_f8da0cff9a16row0_col2 {\n",
       "            background-color:  #455cce;\n",
       "            color:  #f1f1f1;\n",
       "        }    #T_a5950b2e_80d9_11ea_81bc_f8da0cff9a16row0_col3 {\n",
       "            background-color:  #90b2fe;\n",
       "            color:  #000000;\n",
       "        }    #T_a5950b2e_80d9_11ea_81bc_f8da0cff9a16row0_col4 {\n",
       "            background-color:  #7699f6;\n",
       "            color:  #000000;\n",
       "        }    #T_a5950b2e_80d9_11ea_81bc_f8da0cff9a16row0_col5 {\n",
       "            background-color:  #485fd1;\n",
       "            color:  #f1f1f1;\n",
       "        }    #T_a5950b2e_80d9_11ea_81bc_f8da0cff9a16row0_col6 {\n",
       "            background-color:  #80a3fa;\n",
       "            color:  #000000;\n",
       "        }    #T_a5950b2e_80d9_11ea_81bc_f8da0cff9a16row1_col0 {\n",
       "            background-color:  #485fd1;\n",
       "            color:  #f1f1f1;\n",
       "        }    #T_a5950b2e_80d9_11ea_81bc_f8da0cff9a16row1_col1 {\n",
       "            background-color:  #b40426;\n",
       "            color:  #f1f1f1;\n",
       "        }    #T_a5950b2e_80d9_11ea_81bc_f8da0cff9a16row1_col2 {\n",
       "            background-color:  #3b4cc0;\n",
       "            color:  #f1f1f1;\n",
       "        }    #T_a5950b2e_80d9_11ea_81bc_f8da0cff9a16row1_col3 {\n",
       "            background-color:  #89acfd;\n",
       "            color:  #000000;\n",
       "        }    #T_a5950b2e_80d9_11ea_81bc_f8da0cff9a16row1_col4 {\n",
       "            background-color:  #7295f4;\n",
       "            color:  #000000;\n",
       "        }    #T_a5950b2e_80d9_11ea_81bc_f8da0cff9a16row1_col5 {\n",
       "            background-color:  #4055c8;\n",
       "            color:  #f1f1f1;\n",
       "        }    #T_a5950b2e_80d9_11ea_81bc_f8da0cff9a16row1_col6 {\n",
       "            background-color:  #8badfd;\n",
       "            color:  #000000;\n",
       "        }    #T_a5950b2e_80d9_11ea_81bc_f8da0cff9a16row2_col0 {\n",
       "            background-color:  #4b64d5;\n",
       "            color:  #f1f1f1;\n",
       "        }    #T_a5950b2e_80d9_11ea_81bc_f8da0cff9a16row2_col1 {\n",
       "            background-color:  #3b4cc0;\n",
       "            color:  #f1f1f1;\n",
       "        }    #T_a5950b2e_80d9_11ea_81bc_f8da0cff9a16row2_col2 {\n",
       "            background-color:  #b40426;\n",
       "            color:  #f1f1f1;\n",
       "        }    #T_a5950b2e_80d9_11ea_81bc_f8da0cff9a16row2_col3 {\n",
       "            background-color:  #8db0fe;\n",
       "            color:  #000000;\n",
       "        }    #T_a5950b2e_80d9_11ea_81bc_f8da0cff9a16row2_col4 {\n",
       "            background-color:  #7699f6;\n",
       "            color:  #000000;\n",
       "        }    #T_a5950b2e_80d9_11ea_81bc_f8da0cff9a16row2_col5 {\n",
       "            background-color:  #3f53c6;\n",
       "            color:  #f1f1f1;\n",
       "        }    #T_a5950b2e_80d9_11ea_81bc_f8da0cff9a16row2_col6 {\n",
       "            background-color:  #89acfd;\n",
       "            color:  #000000;\n",
       "        }    #T_a5950b2e_80d9_11ea_81bc_f8da0cff9a16row3_col0 {\n",
       "            background-color:  #4c66d6;\n",
       "            color:  #000000;\n",
       "        }    #T_a5950b2e_80d9_11ea_81bc_f8da0cff9a16row3_col1 {\n",
       "            background-color:  #3f53c6;\n",
       "            color:  #f1f1f1;\n",
       "        }    #T_a5950b2e_80d9_11ea_81bc_f8da0cff9a16row3_col2 {\n",
       "            background-color:  #4358cb;\n",
       "            color:  #f1f1f1;\n",
       "        }    #T_a5950b2e_80d9_11ea_81bc_f8da0cff9a16row3_col3 {\n",
       "            background-color:  #b40426;\n",
       "            color:  #f1f1f1;\n",
       "        }    #T_a5950b2e_80d9_11ea_81bc_f8da0cff9a16row3_col4 {\n",
       "            background-color:  #f4c5ad;\n",
       "            color:  #000000;\n",
       "        }    #T_a5950b2e_80d9_11ea_81bc_f8da0cff9a16row3_col5 {\n",
       "            background-color:  #88abfd;\n",
       "            color:  #000000;\n",
       "        }    #T_a5950b2e_80d9_11ea_81bc_f8da0cff9a16row3_col6 {\n",
       "            background-color:  #3b4cc0;\n",
       "            color:  #f1f1f1;\n",
       "        }    #T_a5950b2e_80d9_11ea_81bc_f8da0cff9a16row4_col0 {\n",
       "            background-color:  #4a63d3;\n",
       "            color:  #f1f1f1;\n",
       "        }    #T_a5950b2e_80d9_11ea_81bc_f8da0cff9a16row4_col1 {\n",
       "            background-color:  #3f53c6;\n",
       "            color:  #f1f1f1;\n",
       "        }    #T_a5950b2e_80d9_11ea_81bc_f8da0cff9a16row4_col2 {\n",
       "            background-color:  #445acc;\n",
       "            color:  #f1f1f1;\n",
       "        }    #T_a5950b2e_80d9_11ea_81bc_f8da0cff9a16row4_col3 {\n",
       "            background-color:  #f7bca1;\n",
       "            color:  #000000;\n",
       "        }    #T_a5950b2e_80d9_11ea_81bc_f8da0cff9a16row4_col4 {\n",
       "            background-color:  #b40426;\n",
       "            color:  #f1f1f1;\n",
       "        }    #T_a5950b2e_80d9_11ea_81bc_f8da0cff9a16row4_col5 {\n",
       "            background-color:  #ebd3c6;\n",
       "            color:  #000000;\n",
       "        }    #T_a5950b2e_80d9_11ea_81bc_f8da0cff9a16row4_col6 {\n",
       "            background-color:  #5470de;\n",
       "            color:  #000000;\n",
       "        }    #T_a5950b2e_80d9_11ea_81bc_f8da0cff9a16row5_col0 {\n",
       "            background-color:  #4b64d5;\n",
       "            color:  #f1f1f1;\n",
       "        }    #T_a5950b2e_80d9_11ea_81bc_f8da0cff9a16row5_col1 {\n",
       "            background-color:  #3e51c5;\n",
       "            color:  #f1f1f1;\n",
       "        }    #T_a5950b2e_80d9_11ea_81bc_f8da0cff9a16row5_col2 {\n",
       "            background-color:  #3d50c3;\n",
       "            color:  #f1f1f1;\n",
       "        }    #T_a5950b2e_80d9_11ea_81bc_f8da0cff9a16row5_col3 {\n",
       "            background-color:  #c3d5f4;\n",
       "            color:  #000000;\n",
       "        }    #T_a5950b2e_80d9_11ea_81bc_f8da0cff9a16row5_col4 {\n",
       "            background-color:  #f5c4ac;\n",
       "            color:  #000000;\n",
       "        }    #T_a5950b2e_80d9_11ea_81bc_f8da0cff9a16row5_col5 {\n",
       "            background-color:  #b40426;\n",
       "            color:  #f1f1f1;\n",
       "        }    #T_a5950b2e_80d9_11ea_81bc_f8da0cff9a16row5_col6 {\n",
       "            background-color:  #82a6fb;\n",
       "            color:  #000000;\n",
       "        }    #T_a5950b2e_80d9_11ea_81bc_f8da0cff9a16row6_col0 {\n",
       "            background-color:  #3b4cc0;\n",
       "            color:  #f1f1f1;\n",
       "        }    #T_a5950b2e_80d9_11ea_81bc_f8da0cff9a16row6_col1 {\n",
       "            background-color:  #4055c8;\n",
       "            color:  #f1f1f1;\n",
       "        }    #T_a5950b2e_80d9_11ea_81bc_f8da0cff9a16row6_col2 {\n",
       "            background-color:  #3e51c5;\n",
       "            color:  #f1f1f1;\n",
       "        }    #T_a5950b2e_80d9_11ea_81bc_f8da0cff9a16row6_col3 {\n",
       "            background-color:  #3b4cc0;\n",
       "            color:  #f1f1f1;\n",
       "        }    #T_a5950b2e_80d9_11ea_81bc_f8da0cff9a16row6_col4 {\n",
       "            background-color:  #3b4cc0;\n",
       "            color:  #f1f1f1;\n",
       "        }    #T_a5950b2e_80d9_11ea_81bc_f8da0cff9a16row6_col5 {\n",
       "            background-color:  #3b4cc0;\n",
       "            color:  #f1f1f1;\n",
       "        }    #T_a5950b2e_80d9_11ea_81bc_f8da0cff9a16row6_col6 {\n",
       "            background-color:  #b40426;\n",
       "            color:  #f1f1f1;\n",
       "        }</style><table id=\"T_a5950b2e_80d9_11ea_81bc_f8da0cff9a16\" ><thead>    <tr>        <th class=\"blank level0\" ></th>        <th class=\"col_heading level0 col0\" >User_ID</th>        <th class=\"col_heading level0 col1\" >Occupation</th>        <th class=\"col_heading level0 col2\" >Marital_Status</th>        <th class=\"col_heading level0 col3\" >Product_Category_1</th>        <th class=\"col_heading level0 col4\" >Product_Category_2</th>        <th class=\"col_heading level0 col5\" >Product_Category_3</th>        <th class=\"col_heading level0 col6\" >Purchase</th>    </tr></thead><tbody>\n",
       "                <tr>\n",
       "                        <th id=\"T_a5950b2e_80d9_11ea_81bc_f8da0cff9a16level0_row0\" class=\"row_heading level0 row0\" >User_ID</th>\n",
       "                        <td id=\"T_a5950b2e_80d9_11ea_81bc_f8da0cff9a16row0_col0\" class=\"data row0 col0\" >1.000000</td>\n",
       "                        <td id=\"T_a5950b2e_80d9_11ea_81bc_f8da0cff9a16row0_col1\" class=\"data row0 col1\" >0.007820</td>\n",
       "                        <td id=\"T_a5950b2e_80d9_11ea_81bc_f8da0cff9a16row0_col2\" class=\"data row0 col2\" >0.021116</td>\n",
       "                        <td id=\"T_a5950b2e_80d9_11ea_81bc_f8da0cff9a16row0_col3\" class=\"data row0 col3\" >0.024572</td>\n",
       "                        <td id=\"T_a5950b2e_80d9_11ea_81bc_f8da0cff9a16row0_col4\" class=\"data row0 col4\" >0.015620</td>\n",
       "                        <td id=\"T_a5950b2e_80d9_11ea_81bc_f8da0cff9a16row0_col5\" class=\"data row0 col5\" >0.018853</td>\n",
       "                        <td id=\"T_a5950b2e_80d9_11ea_81bc_f8da0cff9a16row0_col6\" class=\"data row0 col6\" >-0.037948</td>\n",
       "            </tr>\n",
       "            <tr>\n",
       "                        <th id=\"T_a5950b2e_80d9_11ea_81bc_f8da0cff9a16level0_row1\" class=\"row_heading level0 row1\" >Occupation</th>\n",
       "                        <td id=\"T_a5950b2e_80d9_11ea_81bc_f8da0cff9a16row1_col0\" class=\"data row1 col0\" >0.007820</td>\n",
       "                        <td id=\"T_a5950b2e_80d9_11ea_81bc_f8da0cff9a16row1_col1\" class=\"data row1 col1\" >1.000000</td>\n",
       "                        <td id=\"T_a5950b2e_80d9_11ea_81bc_f8da0cff9a16row1_col2\" class=\"data row1 col2\" >-0.018399</td>\n",
       "                        <td id=\"T_a5950b2e_80d9_11ea_81bc_f8da0cff9a16row1_col3\" class=\"data row1 col3\" >-0.001786</td>\n",
       "                        <td id=\"T_a5950b2e_80d9_11ea_81bc_f8da0cff9a16row1_col4\" class=\"data row1 col4\" >-0.001742</td>\n",
       "                        <td id=\"T_a5950b2e_80d9_11ea_81bc_f8da0cff9a16row1_col5\" class=\"data row1 col5\" >-0.003599</td>\n",
       "                        <td id=\"T_a5950b2e_80d9_11ea_81bc_f8da0cff9a16row1_col6\" class=\"data row1 col6\" >0.001682</td>\n",
       "            </tr>\n",
       "            <tr>\n",
       "                        <th id=\"T_a5950b2e_80d9_11ea_81bc_f8da0cff9a16level0_row2\" class=\"row_heading level0 row2\" >Marital_Status</th>\n",
       "                        <td id=\"T_a5950b2e_80d9_11ea_81bc_f8da0cff9a16row2_col0\" class=\"data row2 col0\" >0.021116</td>\n",
       "                        <td id=\"T_a5950b2e_80d9_11ea_81bc_f8da0cff9a16row2_col1\" class=\"data row2 col1\" >-0.018399</td>\n",
       "                        <td id=\"T_a5950b2e_80d9_11ea_81bc_f8da0cff9a16row2_col2\" class=\"data row2 col2\" >1.000000</td>\n",
       "                        <td id=\"T_a5950b2e_80d9_11ea_81bc_f8da0cff9a16row2_col3\" class=\"data row2 col3\" >0.013195</td>\n",
       "                        <td id=\"T_a5950b2e_80d9_11ea_81bc_f8da0cff9a16row2_col4\" class=\"data row2 col4\" >0.015633</td>\n",
       "                        <td id=\"T_a5950b2e_80d9_11ea_81bc_f8da0cff9a16row2_col5\" class=\"data row2 col5\" >-0.009512</td>\n",
       "                        <td id=\"T_a5950b2e_80d9_11ea_81bc_f8da0cff9a16row2_col6\" class=\"data row2 col6\" >-0.002719</td>\n",
       "            </tr>\n",
       "            <tr>\n",
       "                        <th id=\"T_a5950b2e_80d9_11ea_81bc_f8da0cff9a16level0_row3\" class=\"row_heading level0 row3\" >Product_Category_1</th>\n",
       "                        <td id=\"T_a5950b2e_80d9_11ea_81bc_f8da0cff9a16row3_col0\" class=\"data row3 col0\" >0.024572</td>\n",
       "                        <td id=\"T_a5950b2e_80d9_11ea_81bc_f8da0cff9a16row3_col1\" class=\"data row3 col1\" >-0.001786</td>\n",
       "                        <td id=\"T_a5950b2e_80d9_11ea_81bc_f8da0cff9a16row3_col2\" class=\"data row3 col2\" >0.013195</td>\n",
       "                        <td id=\"T_a5950b2e_80d9_11ea_81bc_f8da0cff9a16row3_col3\" class=\"data row3 col3\" >1.000000</td>\n",
       "                        <td id=\"T_a5950b2e_80d9_11ea_81bc_f8da0cff9a16row3_col4\" class=\"data row3 col4\" >0.544742</td>\n",
       "                        <td id=\"T_a5950b2e_80d9_11ea_81bc_f8da0cff9a16row3_col5\" class=\"data row3 col5\" >0.218217</td>\n",
       "                        <td id=\"T_a5950b2e_80d9_11ea_81bc_f8da0cff9a16row3_col6\" class=\"data row3 col6\" >-0.319253</td>\n",
       "            </tr>\n",
       "            <tr>\n",
       "                        <th id=\"T_a5950b2e_80d9_11ea_81bc_f8da0cff9a16level0_row4\" class=\"row_heading level0 row4\" >Product_Category_2</th>\n",
       "                        <td id=\"T_a5950b2e_80d9_11ea_81bc_f8da0cff9a16row4_col0\" class=\"data row4 col0\" >0.015620</td>\n",
       "                        <td id=\"T_a5950b2e_80d9_11ea_81bc_f8da0cff9a16row4_col1\" class=\"data row4 col1\" >-0.001742</td>\n",
       "                        <td id=\"T_a5950b2e_80d9_11ea_81bc_f8da0cff9a16row4_col2\" class=\"data row4 col2\" >0.015633</td>\n",
       "                        <td id=\"T_a5950b2e_80d9_11ea_81bc_f8da0cff9a16row4_col3\" class=\"data row4 col3\" >0.544742</td>\n",
       "                        <td id=\"T_a5950b2e_80d9_11ea_81bc_f8da0cff9a16row4_col4\" class=\"data row4 col4\" >1.000000</td>\n",
       "                        <td id=\"T_a5950b2e_80d9_11ea_81bc_f8da0cff9a16row4_col5\" class=\"data row4 col5\" >0.549251</td>\n",
       "                        <td id=\"T_a5950b2e_80d9_11ea_81bc_f8da0cff9a16row4_col6\" class=\"data row4 col6\" >-0.209748</td>\n",
       "            </tr>\n",
       "            <tr>\n",
       "                        <th id=\"T_a5950b2e_80d9_11ea_81bc_f8da0cff9a16level0_row5\" class=\"row_heading level0 row5\" >Product_Category_3</th>\n",
       "                        <td id=\"T_a5950b2e_80d9_11ea_81bc_f8da0cff9a16row5_col0\" class=\"data row5 col0\" >0.018853</td>\n",
       "                        <td id=\"T_a5950b2e_80d9_11ea_81bc_f8da0cff9a16row5_col1\" class=\"data row5 col1\" >-0.003599</td>\n",
       "                        <td id=\"T_a5950b2e_80d9_11ea_81bc_f8da0cff9a16row5_col2\" class=\"data row5 col2\" >-0.009512</td>\n",
       "                        <td id=\"T_a5950b2e_80d9_11ea_81bc_f8da0cff9a16row5_col3\" class=\"data row5 col3\" >0.218217</td>\n",
       "                        <td id=\"T_a5950b2e_80d9_11ea_81bc_f8da0cff9a16row5_col4\" class=\"data row5 col4\" >0.549251</td>\n",
       "                        <td id=\"T_a5950b2e_80d9_11ea_81bc_f8da0cff9a16row5_col5\" class=\"data row5 col5\" >1.000000</td>\n",
       "                        <td id=\"T_a5950b2e_80d9_11ea_81bc_f8da0cff9a16row5_col6\" class=\"data row5 col6\" >-0.026285</td>\n",
       "            </tr>\n",
       "            <tr>\n",
       "                        <th id=\"T_a5950b2e_80d9_11ea_81bc_f8da0cff9a16level0_row6\" class=\"row_heading level0 row6\" >Purchase</th>\n",
       "                        <td id=\"T_a5950b2e_80d9_11ea_81bc_f8da0cff9a16row6_col0\" class=\"data row6 col0\" >-0.037948</td>\n",
       "                        <td id=\"T_a5950b2e_80d9_11ea_81bc_f8da0cff9a16row6_col1\" class=\"data row6 col1\" >0.001682</td>\n",
       "                        <td id=\"T_a5950b2e_80d9_11ea_81bc_f8da0cff9a16row6_col2\" class=\"data row6 col2\" >-0.002719</td>\n",
       "                        <td id=\"T_a5950b2e_80d9_11ea_81bc_f8da0cff9a16row6_col3\" class=\"data row6 col3\" >-0.319253</td>\n",
       "                        <td id=\"T_a5950b2e_80d9_11ea_81bc_f8da0cff9a16row6_col4\" class=\"data row6 col4\" >-0.209748</td>\n",
       "                        <td id=\"T_a5950b2e_80d9_11ea_81bc_f8da0cff9a16row6_col5\" class=\"data row6 col5\" >-0.026285</td>\n",
       "                        <td id=\"T_a5950b2e_80d9_11ea_81bc_f8da0cff9a16row6_col6\" class=\"data row6 col6\" >1.000000</td>\n",
       "            </tr>\n",
       "    </tbody></table>"
      ],
      "text/plain": [
       "<pandas.io.formats.style.Styler at 0xea6990>"
      ]
     },
     "execution_count": 9,
     "metadata": {},
     "output_type": "execute_result"
    }
   ],
   "source": [
    "df.corr().style.background_gradient(cmap='coolwarm')"
   ]
  },
  {
   "cell_type": "code",
   "execution_count": 10,
   "metadata": {},
   "outputs": [
    {
     "data": {
      "text/plain": [
       "<matplotlib.image.AxesImage at 0xfc6890>"
      ]
     },
     "execution_count": 10,
     "metadata": {},
     "output_type": "execute_result"
    },
    {
     "data": {
      "image/png": "[encoded data removed]",
      "text/plain": [
       "<Figure size 288x288 with 1 Axes>"
      ]
     },
     "metadata": {},
     "output_type": "display_data"
    }
   ],
   "source": [
    "plt.matshow(df.corr())\n"
   ]
  },
  {
   "cell_type": "code",
   "execution_count": 11,
   "metadata": {},
   "outputs": [
    {
     "data": {
      "text/plain": [
       "<matplotlib.axes._subplots.AxesSubplot at 0xfefa70>"
      ]
     },
     "execution_count": 11,
     "metadata": {},
     "output_type": "execute_result"
    },
    {
     "data": {
      "image/png": "[encoded data removed]",
      "text/plain": [
       "<Figure size 432x288 with 2 Axes>"
      ]
     },
     "metadata": {},
     "output_type": "display_data"
    }
   ],
   "source": [
    "sns.heatmap(df.corr(),annot=True)"
   ]
  },
  {
   "cell_type": "code",
   "execution_count": 12,
   "metadata": {},
   "outputs": [
    {
     "data": {
      "text/plain": [
       "['User_ID',\n",
       " 'Product_ID',\n",
       " 'Gender',\n",
       " 'Age',\n",
       " 'Occupation',\n",
       " 'City_Category',\n",
       " 'Stay_In_Current_City_Years',\n",
       " 'Marital_Status',\n",
       " 'Product_Category_1',\n",
       " 'Product_Category_2',\n",
       " 'Product_Category_3',\n",
       " 'Purchase']"
      ]
     },
     "execution_count": 12,
     "metadata": {},
     "output_type": "execute_result"
    }
   ],
   "source": [
    "list(df.columns)"
   ]
  },
  {
   "cell_type": "code",
   "execution_count": 13,
   "metadata": {},
   "outputs": [
    {
     "name": "stdout",
     "output_type": "stream",
     "text": [
      "[   0    0    0    0    0    0    0    0    0 3155 6815    0]\n"
     ]
    }
   ],
   "source": [
    "print(df.isna().sum().values)"
   ]
  },
  {
   "cell_type": "code",
   "execution_count": 14,
   "metadata": {},
   "outputs": [
    {
     "data": {
      "text/plain": [
       "<BarContainer object of 12 artists>"
      ]
     },
     "execution_count": 14,
     "metadata": {},
     "output_type": "execute_result"
    },
    {
     "data": {
      "image/png": "[encoded data removed]",
      "text/plain": [
       "<Figure size 432x288 with 1 Axes>"
      ]
     },
     "metadata": {},
     "output_type": "display_data"
    }
   ],
   "source": [
    "plt.barh(list(df.columns), df.isna().sum().values)"
   ]
  },
  {
   "cell_type": "code",
   "execution_count": 18,
   "metadata": {},
   "outputs": [
    {
     "data": {
      "text/plain": [
       "<matplotlib.collections.PathCollection at 0x4caccb0>"
      ]
     },
     "execution_count": 18,
     "metadata": {},
     "output_type": "execute_result"
    },
    {
     "data": {
      "image/png": "[encoded data removed]",
      "text/plain": [
       "<Figure size 432x288 with 1 Axes>"
      ]
     },
     "metadata": {},
     "output_type": "display_data"
    }
   ],
   "source": [
    "plt.scatter(df['Age'],df['Purchase'])"
   ]
  },
  {
   "cell_type": "code",
   "execution_count": 32,
   "metadata": {},
   "outputs": [
    {
     "name": "stdout",
     "output_type": "stream",
     "text": [
      "8685\n"
     ]
    }
   ],
   "source": [
    "print(df['Purchase'].mode().max())\n"
   ]
  },
  {
   "cell_type": "code",
   "execution_count": 25,
   "metadata": {},
   "outputs": [
    {
     "name": "stdout",
     "output_type": "stream",
     "text": [
      "9162.40343127183\n"
     ]
    }
   ],
   "source": [
    "print(df['Purchase'].mean())\n"
   ]
  },
  {
   "cell_type": "code",
   "execution_count": 23,
   "metadata": {},
   "outputs": [
    {
     "name": "stdout",
     "output_type": "stream",
     "text": [
      "8024.5\n"
     ]
    }
   ],
   "source": [
    "print(df['Purchase'].median())"
   ]
  },
  {
   "cell_type": "code",
   "execution_count": 33,
   "metadata": {},
   "outputs": [
    {
     "name": "stdout",
     "output_type": "stream",
     "text": [
      "['User_ID', 'Occupation', 'Marital_Status', 'Product_Category_1', 'Product_Category_2', 'Product_Category_3', 'Purchase']\n"
     ]
    }
   ],
   "source": [
    "print(list(df.select_dtypes(include=number).columns))"
   ]
  },
  {
   "cell_type": "code",
   "execution_count": 35,
   "metadata": {},
   "outputs": [
    {
     "data": {
      "text/html": [
       "<div>\n",
       "<style scoped>\n",
       "    .dataframe tbody tr th:only-of-type {\n",
       "        vertical-align: middle;\n",
       "    }\n",
       "\n",
       "    .dataframe tbody tr th {\n",
       "        vertical-align: top;\n",
       "    }\n",
       "\n",
       "    .dataframe thead th {\n",
       "        text-align: right;\n",
       "    }\n",
       "</style>\n",
       "<table border=\"1\" class=\"dataframe\">\n",
       "  <thead>\n",
       "    <tr style=\"text-align: right;\">\n",
       "      <th></th>\n",
       "      <th>User_ID</th>\n",
       "      <th>Occupation</th>\n",
       "      <th>Marital_Status</th>\n",
       "      <th>Product_Category_1</th>\n",
       "      <th>Product_Category_2</th>\n",
       "      <th>Product_Category_3</th>\n",
       "      <th>Purchase</th>\n",
       "    </tr>\n",
       "  </thead>\n",
       "  <tbody>\n",
       "    <tr>\n",
       "      <th>0</th>\n",
       "      <td>1000001</td>\n",
       "      <td>10</td>\n",
       "      <td>0</td>\n",
       "      <td>3</td>\n",
       "      <td>NaN</td>\n",
       "      <td>NaN</td>\n",
       "      <td>8370</td>\n",
       "    </tr>\n",
       "    <tr>\n",
       "      <th>1</th>\n",
       "      <td>1000001</td>\n",
       "      <td>10</td>\n",
       "      <td>0</td>\n",
       "      <td>1</td>\n",
       "      <td>6.0</td>\n",
       "      <td>14.0</td>\n",
       "      <td>15200</td>\n",
       "    </tr>\n",
       "    <tr>\n",
       "      <th>2</th>\n",
       "      <td>1000001</td>\n",
       "      <td>10</td>\n",
       "      <td>0</td>\n",
       "      <td>12</td>\n",
       "      <td>NaN</td>\n",
       "      <td>NaN</td>\n",
       "      <td>1422</td>\n",
       "    </tr>\n",
       "    <tr>\n",
       "      <th>3</th>\n",
       "      <td>1000001</td>\n",
       "      <td>10</td>\n",
       "      <td>0</td>\n",
       "      <td>12</td>\n",
       "      <td>14.0</td>\n",
       "      <td>NaN</td>\n",
       "      <td>1057</td>\n",
       "    </tr>\n",
       "    <tr>\n",
       "      <th>4</th>\n",
       "      <td>1000002</td>\n",
       "      <td>16</td>\n",
       "      <td>0</td>\n",
       "      <td>8</td>\n",
       "      <td>NaN</td>\n",
       "      <td>NaN</td>\n",
       "      <td>7969</td>\n",
       "    </tr>\n",
       "    <tr>\n",
       "      <th>...</th>\n",
       "      <td>...</td>\n",
       "      <td>...</td>\n",
       "      <td>...</td>\n",
       "      <td>...</td>\n",
       "      <td>...</td>\n",
       "      <td>...</td>\n",
       "      <td>...</td>\n",
       "    </tr>\n",
       "    <tr>\n",
       "      <th>9729</th>\n",
       "      <td>1001483</td>\n",
       "      <td>4</td>\n",
       "      <td>0</td>\n",
       "      <td>1</td>\n",
       "      <td>5.0</td>\n",
       "      <td>6.0</td>\n",
       "      <td>4244</td>\n",
       "    </tr>\n",
       "    <tr>\n",
       "      <th>9730</th>\n",
       "      <td>1001483</td>\n",
       "      <td>4</td>\n",
       "      <td>0</td>\n",
       "      <td>8</td>\n",
       "      <td>NaN</td>\n",
       "      <td>NaN</td>\n",
       "      <td>4106</td>\n",
       "    </tr>\n",
       "    <tr>\n",
       "      <th>9731</th>\n",
       "      <td>1001483</td>\n",
       "      <td>4</td>\n",
       "      <td>0</td>\n",
       "      <td>1</td>\n",
       "      <td>8.0</td>\n",
       "      <td>NaN</td>\n",
       "      <td>11424</td>\n",
       "    </tr>\n",
       "    <tr>\n",
       "      <th>9732</th>\n",
       "      <td>1001483</td>\n",
       "      <td>4</td>\n",
       "      <td>0</td>\n",
       "      <td>2</td>\n",
       "      <td>4.0</td>\n",
       "      <td>5.0</td>\n",
       "      <td>3739</td>\n",
       "    </tr>\n",
       "    <tr>\n",
       "      <th>9733</th>\n",
       "      <td>1001484</td>\n",
       "      <td>12</td>\n",
       "      <td>0</td>\n",
       "      <td>8</td>\n",
       "      <td>NaN</td>\n",
       "      <td>NaN</td>\n",
       "      <td>7774</td>\n",
       "    </tr>\n",
       "  </tbody>\n",
       "</table>\n",
       "<p>9734 rows × 7 columns</p>\n",
       "</div>"
      ],
      "text/plain": [
       "      User_ID  Occupation  Marital_Status  Product_Category_1  \\\n",
       "0     1000001          10               0                   3   \n",
       "1     1000001          10               0                   1   \n",
       "2     1000001          10               0                  12   \n",
       "3     1000001          10               0                  12   \n",
       "4     1000002          16               0                   8   \n",
       "...       ...         ...             ...                 ...   \n",
       "9729  1001483           4               0                   1   \n",
       "9730  1001483           4               0                   8   \n",
       "9731  1001483           4               0                   1   \n",
       "9732  1001483           4               0                   2   \n",
       "9733  1001484          12               0                   8   \n",
       "\n",
       "      Product_Category_2  Product_Category_3  Purchase  \n",
       "0                    NaN                 NaN      8370  \n",
       "1                    6.0                14.0     15200  \n",
       "2                    NaN                 NaN      1422  \n",
       "3                   14.0                 NaN      1057  \n",
       "4                    NaN                 NaN      7969  \n",
       "...                  ...                 ...       ...  \n",
       "9729                 5.0                 6.0      4244  \n",
       "9730                 NaN                 NaN      4106  \n",
       "9731                 8.0                 NaN     11424  \n",
       "9732                 4.0                 5.0      3739  \n",
       "9733                 NaN                 NaN      7774  \n",
       "\n",
       "[9734 rows x 7 columns]"
      ]
     },
     "execution_count": 35,
     "metadata": {},
     "output_type": "execute_result"
    }
   ],
   "source": [
    "df.select_dtypes(include=number)"
   ]
  },
  {
   "cell_type": "code",
   "execution_count": 44,
   "metadata": {},
   "outputs": [
    {
     "name": "stdout",
     "output_type": "stream",
     "text": [
      "<class 'dict'>\n"
     ]
    },
    {
     "ename": "TypeError",
     "evalue": "'index' is an invalid keyword argument for print()",
     "output_type": "error",
     "traceback": [
      "\u001b[1;31m---------------------------------------------------------------------------\u001b[0m",
      "\u001b[1;31mTypeError\u001b[0m                                 Traceback (most recent call last)",
      "\u001b[1;32m<ipython-input-44-e691a5ec0dc3>\u001b[0m in \u001b[0;36m<module>\u001b[1;34m\u001b[0m\n\u001b[0;32m      2\u001b[0m \u001b[0mprint\u001b[0m\u001b[1;33m(\u001b[0m\u001b[0mtype\u001b[0m\u001b[1;33m(\u001b[0m\u001b[0mtabela\u001b[0m\u001b[1;33m)\u001b[0m\u001b[1;33m)\u001b[0m\u001b[1;33m\u001b[0m\u001b[1;33m\u001b[0m\u001b[0m\n\u001b[0;32m      3\u001b[0m \u001b[0mdf2\u001b[0m \u001b[1;33m=\u001b[0m \u001b[0mpd\u001b[0m\u001b[1;33m.\u001b[0m\u001b[0mDataFrame\u001b[0m\u001b[1;33m(\u001b[0m\u001b[0mdata\u001b[0m\u001b[1;33m=\u001b[0m\u001b[0mtabela\u001b[0m\u001b[1;33m)\u001b[0m\u001b[1;33m\u001b[0m\u001b[1;33m\u001b[0m\u001b[0m\n\u001b[1;32m----> 4\u001b[1;33m \u001b[0mprint\u001b[0m\u001b[1;33m(\u001b[0m\u001b[0mdf2\u001b[0m\u001b[1;33m,\u001b[0m \u001b[0mindex\u001b[0m\u001b[1;33m=\u001b[0m\u001b[1;32mFalse\u001b[0m\u001b[1;33m)\u001b[0m\u001b[1;33m\u001b[0m\u001b[1;33m\u001b[0m\u001b[0m\n\u001b[0m",
      "\u001b[1;31mTypeError\u001b[0m: 'index' is an invalid keyword argument for print()"
     ]
    }
   ],
   "source": [
    "tabela = ({'Média': [1], 'Mediana': [2], 'Moda': [3]})\n",
    "print(type(tabela))\n"
   ]
  },
  {
   "cell_type": "code",
   "execution_count": 23,
   "metadata": {},
   "outputs": [],
   "source": []
  },
  {
   "cell_type": "code",
   "execution_count": 25,
   "metadata": {},
   "outputs": [
    {
     "data": {
      "text/html": [
       "<style  type=\"text/css\" >\n",
       "</style><table id=\"T_955269be_8438_11ea_8d78_f8da0cff9a16\" ><thead>    <tr>        <th class=\"col_heading level0 col0\" >Gender</th>    </tr></thead><tbody>\n",
       "                <tr>\n",
       "                                <td id=\"T_955269be_8438_11ea_8d78_f8da0cff9a16row0_col0\" class=\"data row0 col0\" >F</td>\n",
       "            </tr>\n",
       "            <tr>\n",
       "                                <td id=\"T_955269be_8438_11ea_8d78_f8da0cff9a16row1_col0\" class=\"data row1 col0\" >F</td>\n",
       "            </tr>\n",
       "            <tr>\n",
       "                                <td id=\"T_955269be_8438_11ea_8d78_f8da0cff9a16row2_col0\" class=\"data row2 col0\" >F</td>\n",
       "            </tr>\n",
       "            <tr>\n",
       "                                <td id=\"T_955269be_8438_11ea_8d78_f8da0cff9a16row3_col0\" class=\"data row3 col0\" >F</td>\n",
       "            </tr>\n",
       "            <tr>\n",
       "                                <td id=\"T_955269be_8438_11ea_8d78_f8da0cff9a16row4_col0\" class=\"data row4 col0\" >M</td>\n",
       "            </tr>\n",
       "    </tbody></table>"
      ],
      "text/plain": [
       "<pandas.io.formats.style.Styler at 0x508e7c70>"
      ]
     },
     "execution_count": 25,
     "metadata": {},
     "output_type": "execute_result"
    }
   ],
   "source": [
    "df[['Gender']].head().style.hide_index()"
   ]
  },
  {
   "cell_type": "code",
   "execution_count": 35,
   "metadata": {},
   "outputs": [
    {
     "data": {
      "text/plain": [
       "dict"
      ]
     },
     "execution_count": 35,
     "metadata": {},
     "output_type": "execute_result"
    }
   ],
   "source": [
    "tabela = {'Média': 1, 'Mediana': 2, 'Moda': 3}\n",
    "type(tabela)"
   ]
  },
  {
   "cell_type": "code",
   "execution_count": 39,
   "metadata": {},
   "outputs": [
    {
     "data": {
      "text/html": [
       "<div>\n",
       "<style scoped>\n",
       "    .dataframe tbody tr th:only-of-type {\n",
       "        vertical-align: middle;\n",
       "    }\n",
       "\n",
       "    .dataframe tbody tr th {\n",
       "        vertical-align: top;\n",
       "    }\n",
       "\n",
       "    .dataframe thead th {\n",
       "        text-align: right;\n",
       "    }\n",
       "</style>\n",
       "<table border=\"1\" class=\"dataframe\">\n",
       "  <thead>\n",
       "    <tr style=\"text-align: right;\">\n",
       "      <th></th>\n",
       "      <th>Média</th>\n",
       "      <th>Mediana</th>\n",
       "      <th>Moda</th>\n",
       "    </tr>\n",
       "  </thead>\n",
       "  <tbody>\n",
       "    <tr>\n",
       "      <th>0</th>\n",
       "      <td>1</td>\n",
       "      <td>2</td>\n",
       "      <td>3</td>\n",
       "    </tr>\n",
       "    <tr>\n",
       "      <th>1</th>\n",
       "      <td>1</td>\n",
       "      <td>2</td>\n",
       "      <td>3</td>\n",
       "    </tr>\n",
       "    <tr>\n",
       "      <th>2</th>\n",
       "      <td>1</td>\n",
       "      <td>2</td>\n",
       "      <td>3</td>\n",
       "    </tr>\n",
       "  </tbody>\n",
       "</table>\n",
       "</div>"
      ],
      "text/plain": [
       "   Média  Mediana  Moda\n",
       "0      1        2     3\n",
       "1      1        2     3\n",
       "2      1        2     3"
      ]
     },
     "execution_count": 39,
     "metadata": {},
     "output_type": "execute_result"
    }
   ],
   "source": [
    "df2 = pd.DataFrame(data=tabela, index=[0,1,2])\n",
    "df2\n"
   ]
  },
  {
   "cell_type": "code",
   "execution_count": 41,
   "metadata": {},
   "outputs": [],
   "source": [
    "df3 = df2.style.hide_index()"
   ]
  },
  {
   "cell_type": "code",
   "execution_count": 42,
   "metadata": {},
   "outputs": [
    {
     "data": {
      "text/html": [
       "<style  type=\"text/css\" >\n",
       "</style><table id=\"T_b00c931c_843a_11ea_9435_f8da0cff9a16\" ><thead>    <tr>        <th class=\"col_heading level0 col0\" >Média</th>        <th class=\"col_heading level0 col1\" >Mediana</th>        <th class=\"col_heading level0 col2\" >Moda</th>    </tr></thead><tbody>\n",
       "                <tr>\n",
       "                                <td id=\"T_b00c931c_843a_11ea_9435_f8da0cff9a16row0_col0\" class=\"data row0 col0\" >1</td>\n",
       "                        <td id=\"T_b00c931c_843a_11ea_9435_f8da0cff9a16row0_col1\" class=\"data row0 col1\" >2</td>\n",
       "                        <td id=\"T_b00c931c_843a_11ea_9435_f8da0cff9a16row0_col2\" class=\"data row0 col2\" >3</td>\n",
       "            </tr>\n",
       "            <tr>\n",
       "                                <td id=\"T_b00c931c_843a_11ea_9435_f8da0cff9a16row1_col0\" class=\"data row1 col0\" >1</td>\n",
       "                        <td id=\"T_b00c931c_843a_11ea_9435_f8da0cff9a16row1_col1\" class=\"data row1 col1\" >2</td>\n",
       "                        <td id=\"T_b00c931c_843a_11ea_9435_f8da0cff9a16row1_col2\" class=\"data row1 col2\" >3</td>\n",
       "            </tr>\n",
       "            <tr>\n",
       "                                <td id=\"T_b00c931c_843a_11ea_9435_f8da0cff9a16row2_col0\" class=\"data row2 col0\" >1</td>\n",
       "                        <td id=\"T_b00c931c_843a_11ea_9435_f8da0cff9a16row2_col1\" class=\"data row2 col1\" >2</td>\n",
       "                        <td id=\"T_b00c931c_843a_11ea_9435_f8da0cff9a16row2_col2\" class=\"data row2 col2\" >3</td>\n",
       "            </tr>\n",
       "    </tbody></table>"
      ],
      "text/plain": [
       "<pandas.io.formats.style.Styler at 0x566f4d50>"
      ]
     },
     "execution_count": 42,
     "metadata": {},
     "output_type": "execute_result"
    }
   ],
   "source": [
    "df3\n"
   ]
  },
  {
   "cell_type": "code",
   "execution_count": 43,
   "metadata": {},
   "outputs": [
    {
     "data": {
      "text/plain": [
       "<matplotlib.axes._subplots.AxesSubplot at 0x56533210>"
      ]
     },
     "execution_count": 43,
     "metadata": {},
     "output_type": "execute_result"
    },
    {
     "data": {
      "image/png": "[encoded data removed]",
      "text/plain": [
       "<Figure size 432x288 with 2 Axes>"
      ]
     },
     "metadata": {},
     "output_type": "display_data"
    }
   ],
   "source": [
    "sns.heatmap(df.cov(),annot=True)"
   ]
  },
  {
   "cell_type": "code",
   "execution_count": null,
   "metadata": {},
   "outputs": [],
   "source": []
  }
 ],
 "metadata": {
  "kernelspec": {
   "display_name": "Python 3",
   "language": "python",
   "name": "python3"
  },
  "language_info": {
   "codemirror_mode": {
    "name": "ipython",
    "version": 3
   },
   "file_extension": ".py",
   "mimetype": "text/x-python",
   "name": "python",
   "nbconvert_exporter": "python",
   "pygments_lexer": "ipython3",
   "version": "3.7.4"
  }
 },
 "nbformat": 4,
 "nbformat_minor": 4
}
